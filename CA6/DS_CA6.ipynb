{
 "cells": [
  {
   "cell_type": "markdown",
   "source": [
    "## Foundations of Data Science | 4022 | Dr. Bahrak & Dr. Yaghoobzadeh\n",
    "## CA6\n",
    "***\n",
    "### Amirreza Akbari | 810899045\n",
    "### Reza Baghestani | 810899046\n",
    "### Hananeh Jamali | 810899053\n",
    "***\n",
    "### 1402/02/29"
   ],
   "metadata": {
    "collapsed": false
   },
   "id": "13f4fe2422f551c4"
  },
  {
   "cell_type": "markdown",
   "source": [
    "## Install & Import Libraries"
   ],
   "metadata": {
    "collapsed": false
   },
   "id": "d657121d085d106"
  },
  {
   "cell_type": "code",
   "outputs": [],
   "source": [],
   "metadata": {
    "collapsed": false,
    "ExecuteTime": {
     "end_time": "2024-05-18T16:53:09.957673900Z",
     "start_time": "2024-05-18T16:53:09.944674400Z"
    }
   },
   "id": "30c3c710aea316a8",
   "execution_count": null
  },
  {
   "cell_type": "markdown",
   "source": [
    "## Task 1: Preprocessing"
   ],
   "metadata": {
    "collapsed": false
   },
   "id": "ede0bf3053732506"
  },
  {
   "cell_type": "code",
   "outputs": [],
   "source": [],
   "metadata": {
    "collapsed": false,
    "ExecuteTime": {
     "end_time": "2024-05-18T16:53:09.978580600Z",
     "start_time": "2024-05-18T16:53:09.961536100Z"
    }
   },
   "id": "4a9125258385ad36",
   "execution_count": null
  },
  {
   "cell_type": "markdown",
   "source": [
    "## Task 2: Dimensionality Reduction"
   ],
   "metadata": {
    "collapsed": false
   },
   "id": "34cdd0717f41c10c"
  },
  {
   "cell_type": "code",
   "outputs": [],
   "source": [],
   "metadata": {
    "collapsed": false,
    "ExecuteTime": {
     "end_time": "2024-05-18T16:53:09.998437700Z",
     "start_time": "2024-05-18T16:53:09.981544600Z"
    }
   },
   "id": "3c893047d9a59729",
   "execution_count": null
  },
  {
   "cell_type": "markdown",
   "source": [
    "## Task 3: Unsupervised Learning"
   ],
   "metadata": {
    "collapsed": false
   },
   "id": "ff1ccb739a057150"
  },
  {
   "cell_type": "code",
   "outputs": [],
   "source": [],
   "metadata": {
    "collapsed": false,
    "ExecuteTime": {
     "end_time": "2024-05-18T16:53:09.999440200Z",
     "start_time": "2024-05-18T16:53:09.986942800Z"
    }
   },
   "id": "f0fb86e6438d8c01",
   "execution_count": null
  },
  {
   "cell_type": "code",
   "outputs": [],
   "source": [],
   "metadata": {
    "collapsed": false,
    "ExecuteTime": {
     "end_time": "2024-05-18T16:53:09.999440200Z",
     "start_time": "2024-05-18T16:53:09.992425300Z"
    }
   },
   "id": "5d4f1bc2b8955021",
   "execution_count": 0
  }
 ],
 "metadata": {
  "kernelspec": {
   "display_name": "Python 3",
   "language": "python",
   "name": "python3"
  },
  "language_info": {
   "codemirror_mode": {
    "name": "ipython",
    "version": 2
   },
   "file_extension": ".py",
   "mimetype": "text/x-python",
   "name": "python",
   "nbconvert_exporter": "python",
   "pygments_lexer": "ipython2",
   "version": "2.7.6"
  }
 },
 "nbformat": 4,
 "nbformat_minor": 5
}
