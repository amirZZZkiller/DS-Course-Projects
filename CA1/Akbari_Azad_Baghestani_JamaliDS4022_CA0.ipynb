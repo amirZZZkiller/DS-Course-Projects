{
 "cells": [
  {
   "cell_type": "markdown",
   "source": [
    "## Monte Carlo Simulation ##"
   ],
   "metadata": {
    "collapsed": false
   },
   "id": "da13c857e61ec5f5"
  },
  {
   "cell_type": "markdown",
   "source": [
    "### Calculating pi ###"
   ],
   "metadata": {
    "collapsed": false
   },
   "id": "a0b4591a1fae15fe"
  },
  {
   "cell_type": "code",
   "outputs": [
    {
     "name": "stdout",
     "output_type": "stream",
     "text": [
      "Number of points: 1000, Mean Estimated Pi: 3.1184000000000003\n",
      "Number of points: 10000, Mean Estimated Pi: 3.14272\n",
      "Number of points: 100000, Mean Estimated Pi: 3.1382879999999997\n",
      "Number of points: 1000000, Mean Estimated Pi: 3.1425736\n"
     ]
    }
   ],
   "source": [
    "import random\n",
    "import numpy as np\n",
    "\n",
    "def estimate_pi(num_points):\n",
    "    points_inside_circle = 0\n",
    "\n",
    "    for _ in range(num_points):\n",
    "        x = random.uniform(0, 1)\n",
    "        y = random.uniform(0, 1)\n",
    "\n",
    "        distance = x**2 + y**2\n",
    "        if distance <= 1:\n",
    "            points_inside_circle += 1\n",
    "\n",
    "    return 4 * points_inside_circle / num_points\n",
    "\n",
    "# Repeat the simulation 5 times for each number of points and compute the mean\n",
    "num_points_list = [1000, 10000, 100000, 1000000]\n",
    "num_simulations = 5\n",
    "\n",
    "for num_points in num_points_list:\n",
    "    pi_estimates = []\n",
    "    for _ in range(num_simulations):\n",
    "        estimated_pi = estimate_pi(num_points)\n",
    "        pi_estimates.append(estimated_pi)\n",
    "    \n",
    "    mean_pi = np.mean(pi_estimates)\n",
    "    print(f\"Number of points: {num_points}, Mean Estimated Pi: {mean_pi}\")\n"
   ],
   "metadata": {
    "collapsed": false,
    "ExecuteTime": {
     "end_time": "2024-03-17T04:19:33.338782Z",
     "start_time": "2024-03-17T04:19:19.843829Z"
    }
   },
   "id": "3b9241df11d27ca9",
   "execution_count": 3
  },
  {
   "cell_type": "markdown",
   "source": [
    "### Mensch ###\n",
    "\n"
   ],
   "metadata": {
    "collapsed": false
   },
   "id": "9ab71dbdcf654997"
  },
  {
   "cell_type": "code",
   "outputs": [],
   "source": [
    "import random\n",
    "\n",
    "def play_game():\n",
    "    positions = [-1, -1, -1, -1]  # Positions of players' pieces\n",
    "    out_areas = [1, 1, 1, 1]  # Out areas for each player\n",
    "    start_fields = [1, 11, 21, 31]  # Start fields for each player\n",
    "    players = [0, 1, 2, 3]  # Player IDs\n",
    "\n",
    "    def move_piece(player, steps):\n",
    "        current_position = positions[player]\n",
    "        if can_move(player, steps):\n",
    "            new_position = (current_position + steps) % 40\n",
    "            positions[player] = new_position\n",
    "    \n",
    "    def is_winner(player, steps):\n",
    "        return (positions[player] + steps)%40 == start_fields[player] \n",
    "    \n",
    "    def check_collision(player):\n",
    "        current_position = positions[player]\n",
    "        for other_player in players:\n",
    "            if other_player != player and positions[other_player] == current_position:\n",
    "                positions[other_player] = -1\n",
    "                out_areas[other_player] = 1\n",
    "    \n",
    "    def can_move(player, steps):\n",
    "        if (positions[player] + steps)%40 > start_fields[player] :\n",
    "            return False\n",
    "        return True\n",
    "\n",
    "    while True:\n",
    "        for player in players:\n",
    "            dice_roll = random.randint(1, 6)\n",
    "\n",
    "            if out_areas[player] == 1 and dice_roll != 6:\n",
    "                continue\n",
    "\n",
    "            if out_areas[player] == 1:\n",
    "                positions[player] = start_fields[player]\n",
    "                out_areas[player] = 0\n",
    "                check_collision(player)\n",
    "                continue\n",
    "\n",
    "            if not is_winner(player, dice_roll):\n",
    "                move_piece(player, dice_roll)\n",
    "                continue\n",
    "\n",
    "            if is_winner(player, dice_roll):\n",
    "                print(\"some one won!\")\n",
    "                return player\n",
    "\n",
    "# Monte Carlo simulation\n",
    "num_simulations = 10000\n",
    "win_counts = [0, 0, 0, 0]\n",
    "\n",
    "for _ in range(num_simulations):\n",
    "    winner = play_game()\n",
    "    win_counts[winner] += 1\n",
    "\n",
    "total_games = sum(win_counts)\n",
    "probabilities = [count / total_games for count in win_counts]\n",
    "\n",
    "for player, prob in enumerate(probabilities):\n",
    "    print(f\"Player {player + 1}: Probability of winning - {prob:.4f}\")\n"
   ],
   "metadata": {
    "collapsed": false,
    "ExecuteTime": {
     "start_time": "2024-03-22T05:34:29.630319Z"
    }
   },
   "id": "98f2e2b11adc0222",
   "execution_count": null
  },
  {
   "cell_type": "markdown",
   "source": [],
   "metadata": {
    "collapsed": false
   },
   "id": "f5a55437f44c6f90"
  },
  {
   "cell_type": "markdown",
   "source": [
    "## Central Limit Theorem(CLT) ##"
   ],
   "metadata": {
    "collapsed": false
   },
   "id": "25d77bf24237cb00"
  },
  {
   "cell_type": "code",
   "outputs": [],
   "source": [
    "import numpy as np\n",
    "import matplotlib.pyplot as plt\n",
    "import seaborn as sns\n",
    "\n",
    "# Set the random seed for reproducibility\n",
    "np.random.seed(42)\n",
    "\n",
    "# Function to generate samples, calculate means, and plot histograms\n",
    "def clt_experiment(distribution, sample_sizes):\n",
    "    for sample_size in sample_sizes:\n",
    "        sample_means = []\n",
    "        for _ in range(1000):  # Generate 1000 samples\n",
    "            sample = distribution(size=sample_size)\n",
    "            sample_mean = np.mean(sample)\n",
    "            sample_means.append(sample_mean)\n",
    "        \n",
    "        # Plot histogram of sample means\n",
    "        plt.figure(figsize=(8, 6))\n",
    "        sns.histplot(sample_means, kde=True, stat='density', color='skyblue', linewidth=0)\n",
    "        \n",
    "        # Overlay with expected normal distribution\n",
    "        mean = np.mean(sample_means)\n",
    "        std = np.std(sample_means)\n",
    "        x = np.linspace(mean - 4*std, mean + 4*std, 1000)\n",
    "        y = 1/(std * np.sqrt(2 * np.pi)) * np.exp(-(x - mean)**2 / (2 * std**2))\n",
    "        plt.plot(x, y, color='red', linestyle='--', linewidth=2)\n",
    "        \n",
    "        plt.title(f'Sample Size: {sample_size}')\n",
    "        plt.xlabel('Sample Mean')\n",
    "        plt.ylabel('Density')\n",
    "        plt.legend(['Expected Normal Distribution', 'Sample Means'])\n",
    "        plt.show()\n",
    "\n",
    "# Normal Distribution\n",
    "normal_distribution = lambda size: np.random.normal(loc=0, scale=1, size=size)\n",
    "sample_sizes = [10, 30, 100]\n",
    "clt_experiment(normal_distribution, sample_sizes)\n",
    "\n",
    "# Exponential Distribution\n",
    "exponential_distribution = lambda size: np.random.exponential(scale=1, size=size)\n",
    "clt_experiment(exponential_distribution, sample_sizes)\n",
    "\n",
    "# Uniform Distribution\n",
    "uniform_distribution = lambda size: np.random.uniform(low=0, high=1, size=size)\n",
    "clt_experiment(uniform_distribution, sample_sizes)\n"
   ],
   "metadata": {
    "collapsed": false
   },
   "id": "3ca6fe08c1349537"
  },
  {
   "cell_type": "markdown",
   "source": [
    "## Hypothesis Testing ##\n",
    "\n"
   ],
   "metadata": {
    "collapsed": false
   },
   "id": "549e40cf5a071b24"
  },
  {
   "cell_type": "markdown",
   "source": [
    "### Unfair Coin ###"
   ],
   "metadata": {
    "collapsed": false
   },
   "id": "68a30b500a805a"
  },
  {
   "cell_type": "code",
   "outputs": [],
   "source": [
    "import numpy as np\n",
    "import scipy.stats as stats\n",
    "\n",
    "# Simulate unfair coin toss\n",
    "np.random.seed(42)\n",
    "\n",
    "def simulate_coin_toss(prob_head, num_tosses):\n",
    "    return np.random.choice(['H', 'T'], size=num_tosses, p=[prob_head, 1 - prob_head])\n",
    "\n",
    "# Hypothesis testing function\n",
    "def hypothesis_test(data, null_hypothesis):\n",
    "    z_score, p_value = stats.binom_test(sum(data == 'H'), n=len(data), p=null_hypothesis, alternative='two-sided')\n",
    "    return z_score, p_value\n",
    "\n",
    "# Perform hypothesis testing for different sample sizes\n",
    "sample_sizes = [30, 100, 1000]\n",
    "prob_head = 0.55  # Probability of landing on one face\n",
    "null_hypothesis = 0.5  # Null hypothesis: The coin is fair\n",
    "\n",
    "for size in sample_sizes:\n",
    "    coin_tosses = simulate_coin_toss(prob_head, size)\n",
    "    z_score, p_value = hypothesis_test(coin_tosses, null_hypothesis)\n",
    "    \n",
    "    confidence_interval = stats.norm.interval(0.95, loc=np.mean(coin_tosses == 'H'), scale=np.sqrt(null_hypothesis*(1-null_hypothesis)/size))\n",
    "    \n",
    "    print(f\"Sample size: {size}\")\n",
    "    print(f\"Z-score: {z_score}\")\n",
    "    print(f\"P-value: {p_value}\")\n",
    "    print(f\"Confidence Interval: {confidence_interval}\")\n",
    "    \n",
    "    if p_value < 0.05:\n",
    "        print(\"Reject null hypothesis: The coin is biased.\")\n",
    "    else:\n",
    "        print(\"Fail to reject null hypothesis: The coin is fair.\")\n",
    "    \n",
    "    print(\"\\n\")\n"
   ],
   "metadata": {
    "collapsed": false
   },
   "id": "e50404b835db88ee"
  },
  {
   "cell_type": "markdown",
   "source": [
    "### Job Placement ###\n"
   ],
   "metadata": {
    "collapsed": false
   },
   "id": "c4e6746af6574916"
  },
  {
   "cell_type": "code",
   "outputs": [],
   "source": [
    "import pandas as pd\n",
    "from scipy import stats\n",
    "\n",
    "# Read data from CSV file\n",
    "data = pd.read_csv(\"job_placement.csv\")\n",
    "\n",
    "# Split students into two groups based on job placement status\n",
    "working_students = data[data['placement_status'] == 'Working']\n",
    "non_working_students = data[data['placement_status'] == 'Not Working']\n",
    "\n",
    "# Calculate mean grades for working and non-working students\n",
    "working_grades = working_students['gpa']\n",
    "non_working_grades = non_working_students['gpa']\n",
    "\n",
    "# Calculate sample statistics\n",
    "n1 = len(working_grades)\n",
    "n2 = len(non_working_grades)\n",
    "mean1 = working_grades.mean()\n",
    "mean2 = non_working_grades.mean()\n",
    "var1 = working_grades.var(ddof=1)\n",
    "var2 = non_working_grades.var(ddof=1)\n",
    "\n",
    "# Calculate pooled variance\n",
    "sp_squared = ((n1 - 1) * var1 + (n2 - 1) * var2) / (n1 + n2 - 2)\n",
    "\n",
    "# Calculate t-statistic\n",
    "t_statistic = (mean1 - mean2) / (sp_squared * (1/n1 + 1/n2))**0.5\n",
    "\n",
    "# Calculate degrees of freedom\n",
    "df = n1 + n2 - 2\n",
    "\n",
    "# Calculate p-value using t-distribution\n",
    "p_value = 2 * (1 - stats.t.cdf(abs(t_statistic), df=df))\n",
    "\n",
    "# Report the results\n",
    "print(f\"t-statistic: {t_statistic}\")\n",
    "print(f\"Degrees of freedom: {df}\")\n",
    "print(f\"P-value: {p_value}\")\n",
    "\n",
    "# Make decision based on significance level (α = 0.05)\n",
    "alpha = 0.05\n",
    "if p_value < alpha:\n",
    "    print(\"Reject null hypothesis: Working alongside studying has a significant impact on grades.\")\n",
    "else:\n",
    "    print(\"Fail to reject null hypothesis: There is no significant impact of working alongside studying on grades.\")\n"
   ],
   "metadata": {
    "collapsed": false
   },
   "id": "616f7e2ce9ffb1a4"
  }
 ],
 "metadata": {
  "kernelspec": {
   "display_name": "Python 3",
   "language": "python",
   "name": "python3"
  },
  "language_info": {
   "codemirror_mode": {
    "name": "ipython",
    "version": 2
   },
   "file_extension": ".py",
   "mimetype": "text/x-python",
   "name": "python",
   "nbconvert_exporter": "python",
   "pygments_lexer": "ipython2",
   "version": "2.7.6"
  }
 },
 "nbformat": 4,
 "nbformat_minor": 5
}
