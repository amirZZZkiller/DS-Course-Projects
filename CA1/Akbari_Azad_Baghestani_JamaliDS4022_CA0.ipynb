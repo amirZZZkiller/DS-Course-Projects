{
 "cells": [
  {
   "cell_type": "markdown",
   "source": [
    "## Monte Carlo Simulation ##"
   ],
   "metadata": {
    "collapsed": false
   },
   "id": "da13c857e61ec5f5"
  },
  {
   "cell_type": "markdown",
   "source": [
    "### Calculating pi ###"
   ],
   "metadata": {
    "collapsed": false
   },
   "id": "a0b4591a1fae15fe"
  },
  {
   "cell_type": "code",
   "outputs": [
    {
     "name": "stdout",
     "output_type": "stream",
     "text": [
      "Number of points: 1000, Mean Estimated Pi: 3.1376\n",
      "Number of points: 10000, Mean Estimated Pi: 3.1461599999999996\n",
      "Number of points: 100000, Mean Estimated Pi: 3.1431200000000006\n",
      "Number of points: 1000000, Mean Estimated Pi: 3.1416823999999997\n"
     ]
    }
   ],
   "source": [
    "import random\n",
    "import numpy as np\n",
    "\n",
    "def estimate_pi(num_points):\n",
    "    points_inside_circle = 0\n",
    "\n",
    "    for _ in range(num_points):\n",
    "        x = random.uniform(0, 1)\n",
    "        y = random.uniform(0, 1)\n",
    "\n",
    "        distance = x**2 + y**2\n",
    "        if distance <= 1:\n",
    "            points_inside_circle += 1\n",
    "\n",
    "    return 4 * points_inside_circle / num_points\n",
    "\n",
    "# Repeat the simulation 5 times for each number of points and compute the mean\n",
    "num_points_list = [1000, 10000, 100000, 1000000]\n",
    "num_simulations = 5\n",
    "\n",
    "for num_points in num_points_list:\n",
    "    pi_estimates = []\n",
    "    for _ in range(num_simulations):\n",
    "        estimated_pi = estimate_pi(num_points)\n",
    "        pi_estimates.append(estimated_pi)\n",
    "    \n",
    "    mean_pi = np.mean(pi_estimates)\n",
    "    print(f\"Number of points: {num_points}, Mean Estimated Pi: {mean_pi}\")\n"
   ],
   "metadata": {
    "collapsed": false,
    "ExecuteTime": {
     "end_time": "2024-03-24T07:34:05.189010Z",
     "start_time": "2024-03-24T07:34:00.878858Z"
    }
   },
   "id": "3b9241df11d27ca9",
   "execution_count": 32
  },
  {
   "cell_type": "markdown",
   "source": [
    "### Mensch ###\n",
    "\n"
   ],
   "metadata": {
    "collapsed": false
   },
   "id": "9ab71dbdcf654997"
  },
  {
   "cell_type": "code",
   "outputs": [],
   "source": [
    "import random\n",
    "\n",
    "def play_game():\n",
    "    positions = [-1, -1, -1, -1]  # Positions of players' pieces\n",
    "    out_areas = [1, 1, 1, 1]  # Out areas for each player\n",
    "    start_fields = [1, 11, 21, 31]  # Start fields for each player\n",
    "    players = [0, 1, 2, 3]  # Player IDs\n",
    "\n",
    "    def move_piece(player, steps):\n",
    "        current_position = positions[player]\n",
    "        if can_move(player, steps):\n",
    "            new_position = (current_position + steps) % 40\n",
    "            positions[player] = new_position\n",
    "    \n",
    "    def is_winner(player, steps):\n",
    "        return (positions[player] + steps)%40 == start_fields[player] \n",
    "    \n",
    "    def check_collision(player):\n",
    "        current_position = positions[player]\n",
    "        for other_player in players:\n",
    "            if other_player != player and positions[other_player] == current_position:\n",
    "                positions[other_player] = -1\n",
    "                out_areas[other_player] = 1\n",
    "    \n",
    "    def can_move(player, steps):\n",
    "        if (positions[player] + steps)%40 > start_fields[player] :\n",
    "            return False\n",
    "        return True\n",
    "\n",
    "    while True:\n",
    "        for player in players:\n",
    "            dice_roll = random.randint(1, 6)\n",
    "\n",
    "            if out_areas[player] == 1 and dice_roll != 6:\n",
    "                continue\n",
    "\n",
    "            if out_areas[player] == 1:\n",
    "                positions[player] = start_fields[player]\n",
    "                out_areas[player] = 0\n",
    "                check_collision(player)\n",
    "                continue\n",
    "\n",
    "            if not is_winner(player, dice_roll):\n",
    "                move_piece(player, dice_roll)\n",
    "                continue\n",
    "\n",
    "            if is_winner(player, dice_roll):\n",
    "                print(\"some one won!\")\n",
    "                return player\n",
    "\n",
    "# Monte Carlo simulation\n",
    "num_simulations = 10000\n",
    "win_counts = [0, 0, 0, 0]\n",
    "\n",
    "for _ in range(num_simulations):\n",
    "    winner = play_game()\n",
    "    win_counts[winner] += 1\n",
    "\n",
    "total_games = sum(win_counts)\n",
    "probabilities = [count / total_games for count in win_counts]\n",
    "\n",
    "for player, prob in enumerate(probabilities):\n",
    "    print(f\"Player {player + 1}: Probability of winning - {prob:.4f}\")\n"
   ],
   "metadata": {
    "collapsed": false,
    "ExecuteTime": {
     "start_time": "2024-03-22T05:34:29.630319Z"
    }
   },
   "id": "98f2e2b11adc0222",
   "execution_count": null
  },
  {
   "cell_type": "markdown",
   "source": [],
   "metadata": {
    "collapsed": false
   },
   "id": "f5a55437f44c6f90"
  },
  {
   "cell_type": "markdown",
   "source": [
    "## Central Limit Theorem(CLT) ##"
   ],
   "metadata": {
    "collapsed": false
   },
   "id": "25d77bf24237cb00"
  },
  {
   "cell_type": "code",
   "outputs": [],
   "source": [
    "import numpy as np\n",
    "import matplotlib.pyplot as plt\n",
    "\n",
    "# Parameters for the distributions\n",
    "lambda_poisson = 5  # Mean rate for Poisson distribution\n",
    "n_trials = 20  # Number of trials for Binomial distribution\n",
    "p_binomial = 0.3  # Probability of success for Binomial distribution\n",
    "low = 0  # Lower bound for Uniform distribution\n",
    "high = 10  # Upper bound for Uniform distribution\n",
    "sample_size = 1000  # Number of samples\n",
    "\n",
    "# Generate random samples\n",
    "poisson_samples = np.random.poisson(lambda_poisson, size=sample_size)\n",
    "binomial_samples = np.random.binomial(n_trials, p_binomial, size=sample_size)\n",
    "uniform_samples = np.random.uniform(low, high, size=sample_size)\n",
    "\n",
    "# Calculate sample means\n",
    "poisson_mean = np.mean(poisson_samples)\n",
    "binomial_mean = np.mean(binomial_samples)\n",
    "uniform_mean = np.mean(uniform_samples)\n",
    "\n",
    "# Plot histograms\n",
    "plt.figure(figsize=(12, 6))\n",
    "\n",
    "# Poisson distribution\n",
    "plt.subplot(131)\n",
    "plt.hist(poisson_samples, bins=20, density=True, alpha=0.6, color='b', label='Poisson samples')\n",
    "plt.xlabel('Number of Events')\n",
    "plt.ylabel('Probability Density')\n",
    "plt.title('Poisson Distribution')\n",
    "plt.legend()\n",
    "\n",
    "# Binomial distribution\n",
    "plt.subplot(132)\n",
    "plt.hist(binomial_samples, bins=20, density=True, alpha=0.6, color='g', label='Binomial samples')\n",
    "plt.xlabel('Number of Successes')\n",
    "plt.ylabel('Probability Density')\n",
    "plt.title('Binomial Distribution')\n",
    "plt.legend()\n",
    "\n",
    "# Uniform distribution\n",
    "plt.subplot(133)\n",
    "plt.hist(uniform_samples, bins=20, density=True, alpha=0.6, color='r', label='Uniform samples')\n",
    "plt.xlabel('Random Values')\n",
    "plt.ylabel('Probability Density')\n",
    "plt.title('Uniform Distribution')\n",
    "plt.legend()\n",
    "\n",
    "plt.tight_layout()\n",
    "plt.show()\n",
    "\n",
    "# Print sample means\n",
    "print(f\"Poisson mean: {poisson_mean:.2f}\")\n",
    "print(f\"Binomial mean: {binomial_mean:.2f}\")\n",
    "print(f\"Uniform mean: {uniform_mean:.2f}\")\n"
   ],
   "metadata": {
    "collapsed": false
   },
   "id": "3ca6fe08c1349537"
  },
  {
   "cell_type": "markdown",
   "source": [
    "## Hypothesis Testing ##\n",
    "\n"
   ],
   "metadata": {
    "collapsed": false
   },
   "id": "549e40cf5a071b24"
  },
  {
   "cell_type": "markdown",
   "source": [
    "### Unfair Coin ###"
   ],
   "metadata": {
    "collapsed": false
   },
   "id": "68a30b500a805a"
  },
  {
   "cell_type": "code",
   "outputs": [
    {
     "ename": "TypeError",
     "evalue": "cannot unpack non-iterable numpy.float64 object",
     "output_type": "error",
     "traceback": [
      "\u001B[1;31m---------------------------------------------------------------------------\u001B[0m",
      "\u001B[1;31mTypeError\u001B[0m                                 Traceback (most recent call last)",
      "Input \u001B[1;32mIn [24]\u001B[0m, in \u001B[0;36m<cell line: 21>\u001B[1;34m()\u001B[0m\n\u001B[0;32m     21\u001B[0m \u001B[38;5;28;01mfor\u001B[39;00m size \u001B[38;5;129;01min\u001B[39;00m sample_sizes:\n\u001B[0;32m     22\u001B[0m     coin_tosses \u001B[38;5;241m=\u001B[39m simulate_coin_toss(prob_head, size)\n\u001B[1;32m---> 23\u001B[0m     z_score, p_value \u001B[38;5;241m=\u001B[39m \u001B[43mhypothesis_test\u001B[49m\u001B[43m(\u001B[49m\u001B[43mcoin_tosses\u001B[49m\u001B[43m,\u001B[49m\u001B[43m \u001B[49m\u001B[43mnull_hypothesis\u001B[49m\u001B[43m)\u001B[49m\n\u001B[0;32m     25\u001B[0m     confidence_interval \u001B[38;5;241m=\u001B[39m stats\u001B[38;5;241m.\u001B[39mnorm\u001B[38;5;241m.\u001B[39minterval(\u001B[38;5;241m0.95\u001B[39m, loc\u001B[38;5;241m=\u001B[39mnp\u001B[38;5;241m.\u001B[39mmean(coin_tosses \u001B[38;5;241m==\u001B[39m \u001B[38;5;124m'\u001B[39m\u001B[38;5;124mH\u001B[39m\u001B[38;5;124m'\u001B[39m), scale\u001B[38;5;241m=\u001B[39mnp\u001B[38;5;241m.\u001B[39msqrt(null_hypothesis\u001B[38;5;241m*\u001B[39m(\u001B[38;5;241m1\u001B[39m\u001B[38;5;241m-\u001B[39mnull_hypothesis)\u001B[38;5;241m/\u001B[39msize))\n\u001B[0;32m     27\u001B[0m     \u001B[38;5;28mprint\u001B[39m(\u001B[38;5;124mf\u001B[39m\u001B[38;5;124m\"\u001B[39m\u001B[38;5;124mSample size: \u001B[39m\u001B[38;5;132;01m{\u001B[39;00msize\u001B[38;5;132;01m}\u001B[39;00m\u001B[38;5;124m\"\u001B[39m)\n",
      "Input \u001B[1;32mIn [24]\u001B[0m, in \u001B[0;36mhypothesis_test\u001B[1;34m(data, null_hypothesis)\u001B[0m\n\u001B[0;32m     12\u001B[0m \u001B[38;5;28;01mdef\u001B[39;00m \u001B[38;5;21mhypothesis_test\u001B[39m(data, null_hypothesis):\n\u001B[1;32m---> 13\u001B[0m     z_score, p_value \u001B[38;5;241m=\u001B[39m stats\u001B[38;5;241m.\u001B[39mbinom_test(\u001B[38;5;28msum\u001B[39m(data \u001B[38;5;241m==\u001B[39m \u001B[38;5;124m'\u001B[39m\u001B[38;5;124mH\u001B[39m\u001B[38;5;124m'\u001B[39m), n\u001B[38;5;241m=\u001B[39m\u001B[38;5;28mlen\u001B[39m(data), p\u001B[38;5;241m=\u001B[39mnull_hypothesis, alternative\u001B[38;5;241m=\u001B[39m\u001B[38;5;124m'\u001B[39m\u001B[38;5;124mtwo-sided\u001B[39m\u001B[38;5;124m'\u001B[39m)\n\u001B[0;32m     14\u001B[0m     \u001B[38;5;28;01mreturn\u001B[39;00m z_score, p_value\n",
      "\u001B[1;31mTypeError\u001B[0m: cannot unpack non-iterable numpy.float64 object"
     ]
    }
   ],
   "source": [
    "import numpy as np\n",
    "import scipy.stats as stats\n",
    "from scipy.stats import t\n",
    "\n",
    "# Simulate unfair coin toss\n",
    "np.random.seed(42)\n",
    "\n",
    "def simulate_coin_toss(prob_head, num_tosses):\n",
    "    return np.random.choice(['H', 'T'], size=num_tosses, p=[prob_head, 1 - prob_head])\n",
    "\n",
    "# Hypothesis testing function\n",
    "def hypothesis_test(data, null_hypothesis):\n",
    "    z_score, p_value = stats.binom_test(sum(data == 'H'), n=len(data), p=null_hypothesis, alternative='two-sided')\n",
    "    return z_score, p_value\n",
    "\n",
    "# Perform hypothesis testing for different sample sizes\n",
    "sample_sizes = [30, 100, 1000]\n",
    "prob_head = 0.55  # Probability of landing on one face\n",
    "null_hypothesis = 0.5  # Null hypothesis: The coin is fair\n",
    "\n",
    "for size in sample_sizes:\n",
    "    coin_tosses = simulate_coin_toss(prob_head, size)\n",
    "    z_score, p_value = hypothesis_test(coin_tosses, null_hypothesis)\n",
    "    \n",
    "    confidence_interval = stats.norm.interval(0.95, loc=np.mean(coin_tosses == 'H'), scale=np.sqrt(null_hypothesis*(1-null_hypothesis)/size))\n",
    "    \n",
    "    print(f\"Sample size: {size}\")\n",
    "    print(f\"Z-score: {z_score}\")\n",
    "    print(f\"P-value: {p_value}\")\n",
    "    print(f\"Confidence Interval: {confidence_interval}\")\n",
    "    \n",
    "    if p_value < 0.05:\n",
    "        print(\"Reject null hypothesis: The coin is biased.\")\n",
    "    else:\n",
    "        print(\"Fail to reject null hypothesis: The coin is fair.\")\n",
    "    \n",
    "    print(\"\\n\")\n"
   ],
   "metadata": {
    "collapsed": false,
    "ExecuteTime": {
     "end_time": "2024-03-24T06:57:10.101509Z",
     "start_time": "2024-03-24T06:57:09.898347Z"
    }
   },
   "id": "e50404b835db88ee",
   "execution_count": 24
  },
  {
   "cell_type": "markdown",
   "source": [
    "### Job Placement(manual) ###\n"
   ],
   "metadata": {
    "collapsed": false
   },
   "id": "c4e6746af6574916"
  },
  {
   "cell_type": "code",
   "outputs": [
    {
     "name": "stdout",
     "output_type": "stream",
     "text": [
      "t-statistic: 4.442633347556005\n",
      "Degrees of freedom: 129\n",
      "P-value: 1.891866696746014e-05\n",
      "Reject null hypothesis: Working alongside studying has a significant impact on grades.\n"
     ]
    }
   ],
   "source": [
    "import pandas as pd\n",
    "from scipy import stats\n",
    "from scipy.stats import t\n",
    "import math\n",
    "\n",
    "# Read data from CSV file\n",
    "data = pd.read_csv(\"job_placement.csv\")\n",
    "\n",
    "# Split students into two groups based on job placement status\n",
    "working_students = data[data['placement_status'] == 'Placed']\n",
    "non_working_students = data[data['placement_status'] == 'Not Placed']\n",
    "working_grades = working_students['gpa']\n",
    "non_working_grades = non_working_students['gpa']\n",
    "\n",
    "# Calculate sample statistics\n",
    "n1 = len(working_grades)\n",
    "n2 = len(non_working_grades)\n",
    "mean1 = working_grades.mean()\n",
    "mean2 = non_working_grades.mean()\n",
    "var1 = working_grades.var()\n",
    "var2 = non_working_grades.var()\n",
    "\n",
    "# Calculate the standard error and degrees of freedom\n",
    "SE = math.sqrt(var1/n1 + var2/n2)\n",
    "df = min(n1 - 1, n2 - 1)\n",
    "\n",
    "# Calculate the t-statistic and p-value for a two-tailed test\n",
    "T = (mean1 - mean2) / SE\n",
    "p_value = (1 - t.cdf(T, df=df)) * 2\n",
    "\n",
    "# Report the results\n",
    "print(f\"t-statistic: {T}\")\n",
    "print(f\"Degrees of freedom: {df}\")\n",
    "print(f\"P-value: {p_value}\")\n",
    "\n",
    "# Make decision based on significance level (α = 0.05)\n",
    "alpha = 0.05\n",
    "if p_value < alpha:\n",
    "    print(\"Reject null hypothesis: Working alongside studying has a significant impact on grades.\")\n",
    "else:\n",
    "    print(\"Fail to reject null hypothesis: There is no significant impact of working alongside studying on grades.\")\n"
   ],
   "metadata": {
    "collapsed": false,
    "ExecuteTime": {
     "end_time": "2024-03-24T07:15:43.769385Z",
     "start_time": "2024-03-24T07:15:43.750386Z"
    }
   },
   "id": "616f7e2ce9ffb1a4",
   "execution_count": 28
  },
  {
   "cell_type": "markdown",
   "source": [
    "### Job Placement(library) ###"
   ],
   "metadata": {
    "collapsed": false
   },
   "id": "8d9bf8e9b2c919a9"
  },
  {
   "cell_type": "code",
   "outputs": [
    {
     "name": "stdout",
     "output_type": "stream",
     "text": [
      "t-statistic: 5.105318956468754\n",
      "p-value: 4.263644494096789e-07\n",
      "Reject null hypothesis: Working alongside studying has a significant impact on grades.\n"
     ]
    }
   ],
   "source": [
    "from scipy.stats import ttest_ind\n",
    "import pandas as pd\n",
    "\n",
    "# Read data from CSV file\n",
    "data = pd.read_csv(\"job_placement.csv\")\n",
    "\n",
    "# Split students into two groups based on job placement status\n",
    "working_students = data[data['placement_status'] == 'Placed']\n",
    "non_working_students = data[data['placement_status'] == 'Not Placed']\n",
    "working_grades = working_students['gpa']\n",
    "non_working_grades = non_working_students['gpa']\n",
    "\n",
    "# Perform two-sample t-test\n",
    "t_statistic, p_value = ttest_ind(working_grades, non_working_grades)\n",
    "\n",
    "# Output the results\n",
    "print(f\"t-statistic: {t_statistic}\")\n",
    "print(f\"p-value: {p_value}\")\n",
    "\n",
    "# Determine significance\n",
    "alpha = 0.05\n",
    "if p_value < alpha:\n",
    "    print(\"Reject null hypothesis: Working alongside studying has a significant impact on grades.\")\n",
    "else:\n",
    "    print(\"Fail to reject the null hypothesis: There is no significant impact of working alongside studying on grades.\")\n"
   ],
   "metadata": {
    "collapsed": false,
    "ExecuteTime": {
     "end_time": "2024-03-24T07:21:18.418848Z",
     "start_time": "2024-03-24T07:21:18.395848Z"
    }
   },
   "id": "de88bd7f13b67edf",
   "execution_count": 30
  },
  {
   "cell_type": "code",
   "outputs": [],
   "source": [],
   "metadata": {
    "collapsed": false
   },
   "id": "33ac7d20ba74470b"
  }
 ],
 "metadata": {
  "kernelspec": {
   "display_name": "Python 3",
   "language": "python",
   "name": "python3"
  },
  "language_info": {
   "codemirror_mode": {
    "name": "ipython",
    "version": 2
   },
   "file_extension": ".py",
   "mimetype": "text/x-python",
   "name": "python",
   "nbconvert_exporter": "python",
   "pygments_lexer": "ipython2",
   "version": "2.7.6"
  }
 },
 "nbformat": 4,
 "nbformat_minor": 5
}
