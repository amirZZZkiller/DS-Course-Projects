{
 "cells": [
  {
   "cell_type": "markdown",
   "source": [
    "## Monte Carlo Simulation ##"
   ],
   "metadata": {
    "collapsed": false
   },
   "id": "da13c857e61ec5f5"
  },
  {
   "cell_type": "markdown",
   "source": [
    "### Calculating pi ###"
   ],
   "metadata": {
    "collapsed": false
   },
   "id": "a0b4591a1fae15fe"
  },
  {
   "cell_type": "code",
   "outputs": [
    {
     "name": "stdout",
     "output_type": "stream",
     "text": [
      "Number of points: 1000, Mean Estimated Pi: 3.1184000000000003\n",
      "Number of points: 10000, Mean Estimated Pi: 3.14272\n",
      "Number of points: 100000, Mean Estimated Pi: 3.1382879999999997\n",
      "Number of points: 1000000, Mean Estimated Pi: 3.1425736\n"
     ]
    }
   ],
   "source": [
    "import random\n",
    "import numpy as np\n",
    "\n",
    "def estimate_pi(num_points):\n",
    "    points_inside_circle = 0\n",
    "\n",
    "    for _ in range(num_points):\n",
    "        x = random.uniform(0, 1)\n",
    "        y = random.uniform(0, 1)\n",
    "\n",
    "        distance = x**2 + y**2\n",
    "        if distance <= 1:\n",
    "            points_inside_circle += 1\n",
    "\n",
    "    return 4 * points_inside_circle / num_points\n",
    "\n",
    "# Repeat the simulation 5 times for each number of points and compute the mean\n",
    "num_points_list = [1000, 10000, 100000, 1000000]\n",
    "num_simulations = 5\n",
    "\n",
    "for num_points in num_points_list:\n",
    "    pi_estimates = []\n",
    "    for _ in range(num_simulations):\n",
    "        estimated_pi = estimate_pi(num_points)\n",
    "        pi_estimates.append(estimated_pi)\n",
    "    \n",
    "    mean_pi = np.mean(pi_estimates)\n",
    "    print(f\"Number of points: {num_points}, Mean Estimated Pi: {mean_pi}\")\n"
   ],
   "metadata": {
    "collapsed": false,
    "ExecuteTime": {
     "end_time": "2024-03-17T04:19:33.338782Z",
     "start_time": "2024-03-17T04:19:19.843829Z"
    }
   },
   "id": "3b9241df11d27ca9",
   "execution_count": 3
  },
  {
   "cell_type": "markdown",
   "source": [],
   "metadata": {
    "collapsed": false
   },
   "id": "f5a55437f44c6f90"
  }
 ],
 "metadata": {
  "kernelspec": {
   "display_name": "Python 3",
   "language": "python",
   "name": "python3"
  },
  "language_info": {
   "codemirror_mode": {
    "name": "ipython",
    "version": 2
   },
   "file_extension": ".py",
   "mimetype": "text/x-python",
   "name": "python",
   "nbconvert_exporter": "python",
   "pygments_lexer": "ipython2",
   "version": "2.7.6"
  }
 },
 "nbformat": 4,
 "nbformat_minor": 5
}
