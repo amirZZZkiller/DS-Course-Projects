{
 "cells": [
  {
   "cell_type": "markdown",
   "source": [
    "## Foundations of Data Science | 4022 | Dr. Bahrak & Dr. Yaghoobzadeh\n",
    "## CA7\n",
    "***\n",
    "### Amirreza Akbari | 810899045\n",
    "### Reza Baghestani | 810899046\n",
    "### Hananeh Jamali | 810899053\n",
    "***\n",
    "### 1402/03/23"
   ],
   "metadata": {
    "collapsed": false
   },
   "id": "13f4fe2422f551c4"
  },
  {
   "cell_type": "code",
   "outputs": [],
   "source": [],
   "metadata": {
    "collapsed": false
   },
   "id": "a755d884a7d3c5c4"
  }
 ],
 "metadata": {
  "kernelspec": {
   "display_name": "Python 3",
   "language": "python",
   "name": "python3"
  },
  "language_info": {
   "codemirror_mode": {
    "name": "ipython",
    "version": 2
   },
   "file_extension": ".py",
   "mimetype": "text/x-python",
   "name": "python",
   "nbconvert_exporter": "python",
   "pygments_lexer": "ipython2",
   "version": "2.7.6"
  }
 },
 "nbformat": 4,
 "nbformat_minor": 5
}
