{
 "cells": [
  {
   "cell_type": "markdown",
   "source": [
    "## Foundations of Data Science | 4022 | Dr. Bahrak & Dr. Yaghoobzadeh\n",
    "## CA7\n",
    "***\n",
    "### Amirreza Akbari | 810899045\n",
    "### Reza Baghestani | 810899046\n",
    "### Hananeh Jamali | 810899053\n",
    "***\n",
    "### 1402/03/23"
   ],
   "metadata": {
    "collapsed": false
   },
   "id": "13f4fe2422f551c4"
  },
  {
   "cell_type": "markdown",
   "source": [
    "# Updates"
   ],
   "metadata": {
    "collapsed": false
   },
   "id": "d251bee05c5f62b8"
  },
  {
   "cell_type": "code",
   "outputs": [],
   "source": [
    "!pip install -U transformers\n",
    "!pip install -U accelerate"
   ],
   "metadata": {
    "collapsed": false
   },
   "id": "a755d884a7d3c5c4"
  },
  {
   "cell_type": "markdown",
   "source": [
    "After updating packages, restart the session and then start your notebook from imports."
   ],
   "metadata": {
    "collapsed": false
   },
   "id": "89ccabd87afd9f2e"
  },
  {
   "cell_type": "markdown",
   "source": [
    "# Imports"
   ],
   "metadata": {
    "collapsed": false
   },
   "id": "3c31520f36316722"
  },
  {
   "cell_type": "code",
   "outputs": [],
   "source": [
    "import torch\n",
    "from transformers import AutoTokenizer, AutoModelForCausalLM"
   ],
   "metadata": {
    "collapsed": false
   },
   "id": "5d5f7d9558a78604"
  },
  {
   "cell_type": "markdown",
   "source": [
    "# Load Model"
   ],
   "metadata": {
    "collapsed": false
   },
   "id": "e236ae7e9331ab31"
  },
  {
   "cell_type": "code",
   "outputs": [],
   "source": [
    "MODEL_ARGS = {\n",
    "    'Name': 'microsoft/Phi-3-mini-128k-instruct',\n",
    "    'DType': bfloat16\n",
    "}"
   ],
   "metadata": {
    "collapsed": false
   },
   "id": "94966de9b783de21"
  },
  {
   "cell_type": "code",
   "outputs": [],
   "source": [
    "def load_model(model_args):\n",
    "    device = \"cuda\" if torch.cuda.is_available() else \"cpu\"\n",
    "\n",
    "    model = AutoModelForCausalLM.from_pretrained(\n",
    "        model_args['Name'],\n",
    "        trust_remote_code=True,\n",
    "        torch_dtype=torch.model_args['DType'],\n",
    "        low_cpu_mem_usage=True,\n",
    "        device_map={\"\": device},\n",
    "    )\n",
    "    tokenizer = AutoTokenizer.from_pretrained(\n",
    "        model_args['Name'],\n",
    "        trust_remote_code=True,\n",
    "    )\n",
    "\n",
    "    return model, tokenizer"
   ],
   "metadata": {
    "collapsed": false
   },
   "id": "ba1c74b2ee44811c"
  },
  {
   "cell_type": "code",
   "outputs": [],
   "source": [],
   "metadata": {
    "collapsed": false
   },
   "id": "79f50907777874f9"
  }
 ],
 "metadata": {
  "kernelspec": {
   "display_name": "Python 3",
   "language": "python",
   "name": "python3"
  },
  "language_info": {
   "codemirror_mode": {
    "name": "ipython",
    "version": 2
   },
   "file_extension": ".py",
   "mimetype": "text/x-python",
   "name": "python",
   "nbconvert_exporter": "python",
   "pygments_lexer": "ipython2",
   "version": "2.7.6"
  }
 },
 "nbformat": 4,
 "nbformat_minor": 5
}
